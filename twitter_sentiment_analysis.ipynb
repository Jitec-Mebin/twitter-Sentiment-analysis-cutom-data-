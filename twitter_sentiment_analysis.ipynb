{
  "cells": [
    {
      "cell_type": "code",
      "execution_count": 55,
      "id": "4dc5b13a",
      "metadata": {
        "execution": {
          "iopub.execute_input": "2022-06-27T14:56:53.524238Z",
          "iopub.status.busy": "2022-06-27T14:56:53.523644Z",
          "iopub.status.idle": "2022-06-27T14:56:55.615412Z",
          "shell.execute_reply": "2022-06-27T14:56:55.614189Z"
        },
        "id": "4dc5b13a",
        "papermill": {
          "duration": 2.103727,
          "end_time": "2022-06-27T14:56:55.618407",
          "exception": false,
          "start_time": "2022-06-27T14:56:53.514680",
          "status": "completed"
        },
        "tags": []
      },
      "outputs": [],
      "source": [
        "import numpy as np \n",
        "import pandas as pd \n",
        "import re\n",
        "import nltk \n",
        "import seaborn as sn\n",
        "import matplotlib.pyplot as plt\n",
        "from sklearn.feature_extraction.text import TfidfVectorizer\n",
        "from sklearn.model_selection import train_test_split\n",
        "from sklearn.ensemble import RandomForestClassifier \n",
        "from sklearn.metrics import accuracy_score\n",
        "from sklearn.metrics import classification_report\n",
        "from sklearn import model_selection\n",
        "from mlxtend.plotting import plot_confusion_matrix\n",
        "from sklearn import metrics"
      ]
    },
    {
      "cell_type": "code",
      "execution_count": 56,
      "id": "80101039",
      "metadata": {
        "execution": {
          "iopub.execute_input": "2022-06-27T14:56:55.649656Z",
          "iopub.status.busy": "2022-06-27T14:56:55.649243Z",
          "iopub.status.idle": "2022-06-27T14:56:55.798083Z",
          "shell.execute_reply": "2022-06-27T14:56:55.796788Z"
        },
        "id": "80101039",
        "papermill": {
          "duration": 0.160579,
          "end_time": "2022-06-27T14:56:55.800931",
          "exception": false,
          "start_time": "2022-06-27T14:56:55.640352",
          "status": "completed"
        },
        "tags": []
      },
      "outputs": [],
      "source": [
        "tweets = pd.read_csv(\"//content/Tweets.csv\")"
      ]
    },
    {
      "cell_type": "code",
      "execution_count": 57,
      "id": "7fa9483f",
      "metadata": {
        "execution": {
          "iopub.execute_input": "2022-06-27T14:56:55.817457Z",
          "iopub.status.busy": "2022-06-27T14:56:55.817083Z",
          "iopub.status.idle": "2022-06-27T14:56:55.846166Z",
          "shell.execute_reply": "2022-06-27T14:56:55.844981Z"
        },
        "id": "7fa9483f",
        "outputId": "ab38ccad-a299-41bd-b452-1de2e66bd6e3",
        "papermill": {
          "duration": 0.040531,
          "end_time": "2022-06-27T14:56:55.848692",
          "exception": false,
          "start_time": "2022-06-27T14:56:55.808161",
          "status": "completed"
        },
        "tags": [],
        "colab": {
          "base_uri": "https://localhost:8080/",
          "height": 496
        }
      },
      "outputs": [
        {
          "output_type": "execute_result",
          "data": {
            "text/plain": [
              "             tweet_id airline_sentiment  airline_sentiment_confidence  \\\n",
              "0  570306133677760513           neutral                        1.0000   \n",
              "1  570301130888122368          positive                        0.3486   \n",
              "2  570301083672813571           neutral                        0.6837   \n",
              "3  570301031407624196          negative                        1.0000   \n",
              "4  570300817074462722          negative                        1.0000   \n",
              "\n",
              "  negativereason  negativereason_confidence         airline  \\\n",
              "0            NaN                        NaN  Virgin America   \n",
              "1            NaN                     0.0000  Virgin America   \n",
              "2            NaN                        NaN  Virgin America   \n",
              "3     Bad Flight                     0.7033  Virgin America   \n",
              "4     Can't Tell                     1.0000  Virgin America   \n",
              "\n",
              "  airline_sentiment_gold        name negativereason_gold  retweet_count  \\\n",
              "0                    NaN     cairdin                 NaN              0   \n",
              "1                    NaN    jnardino                 NaN              0   \n",
              "2                    NaN  yvonnalynn                 NaN              0   \n",
              "3                    NaN    jnardino                 NaN              0   \n",
              "4                    NaN    jnardino                 NaN              0   \n",
              "\n",
              "                                                text tweet_coord  \\\n",
              "0                @VirginAmerica What @dhepburn said.         NaN   \n",
              "1  @VirginAmerica plus you've added commercials t...         NaN   \n",
              "2  @VirginAmerica I didn't today... Must mean I n...         NaN   \n",
              "3  @VirginAmerica it's really aggressive to blast...         NaN   \n",
              "4  @VirginAmerica and it's a really big bad thing...         NaN   \n",
              "\n",
              "               tweet_created tweet_location               user_timezone  \n",
              "0  2015-02-24 11:35:52 -0800            NaN  Eastern Time (US & Canada)  \n",
              "1  2015-02-24 11:15:59 -0800            NaN  Pacific Time (US & Canada)  \n",
              "2  2015-02-24 11:15:48 -0800      Lets Play  Central Time (US & Canada)  \n",
              "3  2015-02-24 11:15:36 -0800            NaN  Pacific Time (US & Canada)  \n",
              "4  2015-02-24 11:14:45 -0800            NaN  Pacific Time (US & Canada)  "
            ],
            "text/html": [
              "\n",
              "  <div id=\"df-5bb58047-9df8-4014-9fd6-0c9eb2b1b92f\">\n",
              "    <div class=\"colab-df-container\">\n",
              "      <div>\n",
              "<style scoped>\n",
              "    .dataframe tbody tr th:only-of-type {\n",
              "        vertical-align: middle;\n",
              "    }\n",
              "\n",
              "    .dataframe tbody tr th {\n",
              "        vertical-align: top;\n",
              "    }\n",
              "\n",
              "    .dataframe thead th {\n",
              "        text-align: right;\n",
              "    }\n",
              "</style>\n",
              "<table border=\"1\" class=\"dataframe\">\n",
              "  <thead>\n",
              "    <tr style=\"text-align: right;\">\n",
              "      <th></th>\n",
              "      <th>tweet_id</th>\n",
              "      <th>airline_sentiment</th>\n",
              "      <th>airline_sentiment_confidence</th>\n",
              "      <th>negativereason</th>\n",
              "      <th>negativereason_confidence</th>\n",
              "      <th>airline</th>\n",
              "      <th>airline_sentiment_gold</th>\n",
              "      <th>name</th>\n",
              "      <th>negativereason_gold</th>\n",
              "      <th>retweet_count</th>\n",
              "      <th>text</th>\n",
              "      <th>tweet_coord</th>\n",
              "      <th>tweet_created</th>\n",
              "      <th>tweet_location</th>\n",
              "      <th>user_timezone</th>\n",
              "    </tr>\n",
              "  </thead>\n",
              "  <tbody>\n",
              "    <tr>\n",
              "      <th>0</th>\n",
              "      <td>570306133677760513</td>\n",
              "      <td>neutral</td>\n",
              "      <td>1.0000</td>\n",
              "      <td>NaN</td>\n",
              "      <td>NaN</td>\n",
              "      <td>Virgin America</td>\n",
              "      <td>NaN</td>\n",
              "      <td>cairdin</td>\n",
              "      <td>NaN</td>\n",
              "      <td>0</td>\n",
              "      <td>@VirginAmerica What @dhepburn said.</td>\n",
              "      <td>NaN</td>\n",
              "      <td>2015-02-24 11:35:52 -0800</td>\n",
              "      <td>NaN</td>\n",
              "      <td>Eastern Time (US &amp; Canada)</td>\n",
              "    </tr>\n",
              "    <tr>\n",
              "      <th>1</th>\n",
              "      <td>570301130888122368</td>\n",
              "      <td>positive</td>\n",
              "      <td>0.3486</td>\n",
              "      <td>NaN</td>\n",
              "      <td>0.0000</td>\n",
              "      <td>Virgin America</td>\n",
              "      <td>NaN</td>\n",
              "      <td>jnardino</td>\n",
              "      <td>NaN</td>\n",
              "      <td>0</td>\n",
              "      <td>@VirginAmerica plus you've added commercials t...</td>\n",
              "      <td>NaN</td>\n",
              "      <td>2015-02-24 11:15:59 -0800</td>\n",
              "      <td>NaN</td>\n",
              "      <td>Pacific Time (US &amp; Canada)</td>\n",
              "    </tr>\n",
              "    <tr>\n",
              "      <th>2</th>\n",
              "      <td>570301083672813571</td>\n",
              "      <td>neutral</td>\n",
              "      <td>0.6837</td>\n",
              "      <td>NaN</td>\n",
              "      <td>NaN</td>\n",
              "      <td>Virgin America</td>\n",
              "      <td>NaN</td>\n",
              "      <td>yvonnalynn</td>\n",
              "      <td>NaN</td>\n",
              "      <td>0</td>\n",
              "      <td>@VirginAmerica I didn't today... Must mean I n...</td>\n",
              "      <td>NaN</td>\n",
              "      <td>2015-02-24 11:15:48 -0800</td>\n",
              "      <td>Lets Play</td>\n",
              "      <td>Central Time (US &amp; Canada)</td>\n",
              "    </tr>\n",
              "    <tr>\n",
              "      <th>3</th>\n",
              "      <td>570301031407624196</td>\n",
              "      <td>negative</td>\n",
              "      <td>1.0000</td>\n",
              "      <td>Bad Flight</td>\n",
              "      <td>0.7033</td>\n",
              "      <td>Virgin America</td>\n",
              "      <td>NaN</td>\n",
              "      <td>jnardino</td>\n",
              "      <td>NaN</td>\n",
              "      <td>0</td>\n",
              "      <td>@VirginAmerica it's really aggressive to blast...</td>\n",
              "      <td>NaN</td>\n",
              "      <td>2015-02-24 11:15:36 -0800</td>\n",
              "      <td>NaN</td>\n",
              "      <td>Pacific Time (US &amp; Canada)</td>\n",
              "    </tr>\n",
              "    <tr>\n",
              "      <th>4</th>\n",
              "      <td>570300817074462722</td>\n",
              "      <td>negative</td>\n",
              "      <td>1.0000</td>\n",
              "      <td>Can't Tell</td>\n",
              "      <td>1.0000</td>\n",
              "      <td>Virgin America</td>\n",
              "      <td>NaN</td>\n",
              "      <td>jnardino</td>\n",
              "      <td>NaN</td>\n",
              "      <td>0</td>\n",
              "      <td>@VirginAmerica and it's a really big bad thing...</td>\n",
              "      <td>NaN</td>\n",
              "      <td>2015-02-24 11:14:45 -0800</td>\n",
              "      <td>NaN</td>\n",
              "      <td>Pacific Time (US &amp; Canada)</td>\n",
              "    </tr>\n",
              "  </tbody>\n",
              "</table>\n",
              "</div>\n",
              "      <button class=\"colab-df-convert\" onclick=\"convertToInteractive('df-5bb58047-9df8-4014-9fd6-0c9eb2b1b92f')\"\n",
              "              title=\"Convert this dataframe to an interactive table.\"\n",
              "              style=\"display:none;\">\n",
              "        \n",
              "  <svg xmlns=\"http://www.w3.org/2000/svg\" height=\"24px\"viewBox=\"0 0 24 24\"\n",
              "       width=\"24px\">\n",
              "    <path d=\"M0 0h24v24H0V0z\" fill=\"none\"/>\n",
              "    <path d=\"M18.56 5.44l.94 2.06.94-2.06 2.06-.94-2.06-.94-.94-2.06-.94 2.06-2.06.94zm-11 1L8.5 8.5l.94-2.06 2.06-.94-2.06-.94L8.5 2.5l-.94 2.06-2.06.94zm10 10l.94 2.06.94-2.06 2.06-.94-2.06-.94-.94-2.06-.94 2.06-2.06.94z\"/><path d=\"M17.41 7.96l-1.37-1.37c-.4-.4-.92-.59-1.43-.59-.52 0-1.04.2-1.43.59L10.3 9.45l-7.72 7.72c-.78.78-.78 2.05 0 2.83L4 21.41c.39.39.9.59 1.41.59.51 0 1.02-.2 1.41-.59l7.78-7.78 2.81-2.81c.8-.78.8-2.07 0-2.86zM5.41 20L4 18.59l7.72-7.72 1.47 1.35L5.41 20z\"/>\n",
              "  </svg>\n",
              "      </button>\n",
              "      \n",
              "  <style>\n",
              "    .colab-df-container {\n",
              "      display:flex;\n",
              "      flex-wrap:wrap;\n",
              "      gap: 12px;\n",
              "    }\n",
              "\n",
              "    .colab-df-convert {\n",
              "      background-color: #E8F0FE;\n",
              "      border: none;\n",
              "      border-radius: 50%;\n",
              "      cursor: pointer;\n",
              "      display: none;\n",
              "      fill: #1967D2;\n",
              "      height: 32px;\n",
              "      padding: 0 0 0 0;\n",
              "      width: 32px;\n",
              "    }\n",
              "\n",
              "    .colab-df-convert:hover {\n",
              "      background-color: #E2EBFA;\n",
              "      box-shadow: 0px 1px 2px rgba(60, 64, 67, 0.3), 0px 1px 3px 1px rgba(60, 64, 67, 0.15);\n",
              "      fill: #174EA6;\n",
              "    }\n",
              "\n",
              "    [theme=dark] .colab-df-convert {\n",
              "      background-color: #3B4455;\n",
              "      fill: #D2E3FC;\n",
              "    }\n",
              "\n",
              "    [theme=dark] .colab-df-convert:hover {\n",
              "      background-color: #434B5C;\n",
              "      box-shadow: 0px 1px 3px 1px rgba(0, 0, 0, 0.15);\n",
              "      filter: drop-shadow(0px 1px 2px rgba(0, 0, 0, 0.3));\n",
              "      fill: #FFFFFF;\n",
              "    }\n",
              "  </style>\n",
              "\n",
              "      <script>\n",
              "        const buttonEl =\n",
              "          document.querySelector('#df-5bb58047-9df8-4014-9fd6-0c9eb2b1b92f button.colab-df-convert');\n",
              "        buttonEl.style.display =\n",
              "          google.colab.kernel.accessAllowed ? 'block' : 'none';\n",
              "\n",
              "        async function convertToInteractive(key) {\n",
              "          const element = document.querySelector('#df-5bb58047-9df8-4014-9fd6-0c9eb2b1b92f');\n",
              "          const dataTable =\n",
              "            await google.colab.kernel.invokeFunction('convertToInteractive',\n",
              "                                                     [key], {});\n",
              "          if (!dataTable) return;\n",
              "\n",
              "          const docLinkHtml = 'Like what you see? Visit the ' +\n",
              "            '<a target=\"_blank\" href=https://colab.research.google.com/notebooks/data_table.ipynb>data table notebook</a>'\n",
              "            + ' to learn more about interactive tables.';\n",
              "          element.innerHTML = '';\n",
              "          dataTable['output_type'] = 'display_data';\n",
              "          await google.colab.output.renderOutput(dataTable, element);\n",
              "          const docLink = document.createElement('div');\n",
              "          docLink.innerHTML = docLinkHtml;\n",
              "          element.appendChild(docLink);\n",
              "        }\n",
              "      </script>\n",
              "    </div>\n",
              "  </div>\n",
              "  "
            ]
          },
          "metadata": {},
          "execution_count": 57
        }
      ],
      "source": [
        "tweets.head(5)"
      ]
    },
    {
      "cell_type": "code",
      "execution_count": 58,
      "id": "8c7f4ad8",
      "metadata": {
        "execution": {
          "iopub.execute_input": "2022-06-27T14:56:55.866859Z",
          "iopub.status.busy": "2022-06-27T14:56:55.865437Z",
          "iopub.status.idle": "2022-06-27T14:56:55.894192Z",
          "shell.execute_reply": "2022-06-27T14:56:55.893048Z"
        },
        "id": "8c7f4ad8",
        "outputId": "2fea8711-9691-45fa-d87a-6872c9ba8333",
        "papermill": {
          "duration": 0.040657,
          "end_time": "2022-06-27T14:56:55.897050",
          "exception": false,
          "start_time": "2022-06-27T14:56:55.856393",
          "status": "completed"
        },
        "tags": [],
        "colab": {
          "base_uri": "https://localhost:8080/"
        }
      },
      "outputs": [
        {
          "output_type": "execute_result",
          "data": {
            "text/plain": [
              "tweet_id                         0.000000\n",
              "airline_sentiment                0.000000\n",
              "airline_sentiment_confidence     0.000000\n",
              "negativereason                  41.166718\n",
              "negativereason_confidence       31.716921\n",
              "airline                          0.000000\n",
              "airline_sentiment_gold          99.725417\n",
              "name                             0.000000\n",
              "negativereason_gold             99.782406\n",
              "retweet_count                    0.000000\n",
              "text                             0.000000\n",
              "tweet_coord                     93.099161\n",
              "tweet_created                    0.000000\n",
              "tweet_location                  32.178013\n",
              "user_timezone                   32.110662\n",
              "dtype: float64"
            ]
          },
          "metadata": {},
          "execution_count": 58
        }
      ],
      "source": [
        "tweets.isnull().mean() * 100"
      ]
    },
    {
      "cell_type": "markdown",
      "id": "cb9b44d1",
      "metadata": {
        "papermill": {
          "duration": 0.007757,
          "end_time": "2022-06-27T14:56:55.912539",
          "exception": false,
          "start_time": "2022-06-27T14:56:55.904782",
          "status": "completed"
        },
        "tags": [],
        "id": "cb9b44d1"
      },
      "source": [
        "#### replace null with 0 in the dataframe"
      ]
    },
    {
      "cell_type": "code",
      "execution_count": 59,
      "id": "66831ee8",
      "metadata": {
        "execution": {
          "iopub.execute_input": "2022-06-27T14:56:55.929516Z",
          "iopub.status.busy": "2022-06-27T14:56:55.929103Z",
          "iopub.status.idle": "2022-06-27T14:56:55.951815Z",
          "shell.execute_reply": "2022-06-27T14:56:55.950355Z"
        },
        "id": "66831ee8",
        "papermill": {
          "duration": 0.034114,
          "end_time": "2022-06-27T14:56:55.954246",
          "exception": false,
          "start_time": "2022-06-27T14:56:55.920132",
          "status": "completed"
        },
        "tags": []
      },
      "outputs": [],
      "source": [
        "tweets.fillna(0,inplace=True)"
      ]
    },
    {
      "cell_type": "code",
      "execution_count": 60,
      "id": "334aaa36",
      "metadata": {
        "execution": {
          "iopub.execute_input": "2022-06-27T14:56:55.987324Z",
          "iopub.status.busy": "2022-06-27T14:56:55.986593Z",
          "iopub.status.idle": "2022-06-27T14:56:56.178858Z",
          "shell.execute_reply": "2022-06-27T14:56:56.177348Z"
        },
        "id": "334aaa36",
        "outputId": "fcecac20-60f0-4e25-f659-be7fe40fb20c",
        "papermill": {
          "duration": 0.204581,
          "end_time": "2022-06-27T14:56:56.181897",
          "exception": false,
          "start_time": "2022-06-27T14:56:55.977316",
          "status": "completed"
        },
        "tags": [],
        "colab": {
          "base_uri": "https://localhost:8080/",
          "height": 266
        }
      },
      "outputs": [
        {
          "output_type": "execute_result",
          "data": {
            "text/plain": [
              "<matplotlib.axes._subplots.AxesSubplot at 0x7fe6dd4398d0>"
            ]
          },
          "metadata": {},
          "execution_count": 60
        },
        {
          "output_type": "display_data",
          "data": {
            "text/plain": [
              "<Figure size 432x288 with 1 Axes>"
            ],
            "image/png": "[encoded data removed]"
          },
          "metadata": {}
        }
      ],
      "source": [
        "tweets.airline.value_counts().plot(kind='pie', autopct='%1.0f%%')"
      ]
    },
    {
      "cell_type": "code",
      "execution_count": 61,
      "id": "db568ab0",
      "metadata": {
        "execution": {
          "iopub.execute_input": "2022-06-27T14:56:56.201848Z",
          "iopub.status.busy": "2022-06-27T14:56:56.200159Z",
          "iopub.status.idle": "2022-06-27T14:56:56.414329Z",
          "shell.execute_reply": "2022-06-27T14:56:56.413160Z"
        },
        "id": "db568ab0",
        "outputId": "b0b7b7fa-9d2e-4a72-843a-54cf39ca810b",
        "papermill": {
          "duration": 0.226655,
          "end_time": "2022-06-27T14:56:56.416923",
          "exception": false,
          "start_time": "2022-06-27T14:56:56.190268",
          "status": "completed"
        },
        "tags": [],
        "colab": {
          "base_uri": "https://localhost:8080/",
          "height": 361
        }
      },
      "outputs": [
        {
          "output_type": "execute_result",
          "data": {
            "text/plain": [
              "<matplotlib.axes._subplots.AxesSubplot at 0x7fe6dcf6e5d0>"
            ]
          },
          "metadata": {},
          "execution_count": 61
        },
        {
          "output_type": "display_data",
          "data": {
            "text/plain": [
              "<Figure size 432x288 with 1 Axes>"
            ],
            "image/png": "[encoded data removed]"
          },
          "metadata": {
            "needs_background": "light"
          }
        }
      ],
      "source": [
        "airline_sentiment = tweets.groupby(['airline', 'airline_sentiment']).airline_sentiment.count().unstack()\n",
        "airline_sentiment.plot(kind='bar')"
      ]
    },
    {
      "cell_type": "code",
      "execution_count": 62,
      "id": "a6428d65",
      "metadata": {
        "execution": {
          "iopub.execute_input": "2022-06-27T14:56:56.436283Z",
          "iopub.status.busy": "2022-06-27T14:56:56.435876Z",
          "iopub.status.idle": "2022-06-27T14:56:56.808182Z",
          "shell.execute_reply": "2022-06-27T14:56:56.807332Z"
        },
        "id": "a6428d65",
        "outputId": "28bac6f9-575c-418f-b6cd-a2becf9bd604",
        "papermill": {
          "duration": 0.384837,
          "end_time": "2022-06-27T14:56:56.810597",
          "exception": false,
          "start_time": "2022-06-27T14:56:56.425760",
          "status": "completed"
        },
        "tags": [],
        "colab": {
          "base_uri": "https://localhost:8080/",
          "height": 298
        }
      },
      "outputs": [
        {
          "output_type": "execute_result",
          "data": {
            "text/plain": [
              "<matplotlib.axes._subplots.AxesSubplot at 0x7fe6dce870d0>"
            ]
          },
          "metadata": {},
          "execution_count": 62
        },
        {
          "output_type": "display_data",
          "data": {
            "text/plain": [
              "<Figure size 432x288 with 1 Axes>"
            ],
            "image/png": "[encoded data removed]"
          },
          "metadata": {
            "needs_background": "light"
          }
        }
      ],
      "source": [
        "sn.barplot(x='airline_sentiment', y='airline_sentiment_confidence' , data=tweets)"
      ]
    },
    {
      "cell_type": "markdown",
      "id": "36ce07fd",
      "metadata": {
        "id": "36ce07fd",
        "papermill": {
          "duration": 0.009014,
          "end_time": "2022-06-27T14:56:56.828730",
          "exception": false,
          "start_time": "2022-06-27T14:56:56.819716",
          "status": "completed"
        },
        "tags": []
      },
      "source": [
        "## Data Cleaning"
      ]
    },
    {
      "cell_type": "code",
      "execution_count": 63,
      "id": "c0479cab",
      "metadata": {
        "execution": {
          "iopub.execute_input": "2022-06-27T14:56:56.849496Z",
          "iopub.status.busy": "2022-06-27T14:56:56.848775Z",
          "iopub.status.idle": "2022-06-27T14:56:56.856013Z",
          "shell.execute_reply": "2022-06-27T14:56:56.855018Z"
        },
        "id": "c0479cab",
        "papermill": {
          "duration": 0.020851,
          "end_time": "2022-06-27T14:56:56.858949",
          "exception": false,
          "start_time": "2022-06-27T14:56:56.838098",
          "status": "completed"
        },
        "tags": []
      },
      "outputs": [],
      "source": [
        "features = tweets.iloc[:, 10].values\n",
        "labels = tweets.iloc[:, 1].values"
      ]
    },
    {
      "cell_type": "code",
      "execution_count": 64,
      "id": "f9f10f5f",
      "metadata": {
        "execution": {
          "iopub.execute_input": "2022-06-27T14:56:56.878715Z",
          "iopub.status.busy": "2022-06-27T14:56:56.878333Z",
          "iopub.status.idle": "2022-06-27T14:56:56.886170Z",
          "shell.execute_reply": "2022-06-27T14:56:56.885055Z"
        },
        "id": "f9f10f5f",
        "outputId": "1810df28-2f3e-4b3d-b6c8-8c7757cbfa70",
        "papermill": {
          "duration": 0.020594,
          "end_time": "2022-06-27T14:56:56.888519",
          "exception": false,
          "start_time": "2022-06-27T14:56:56.867925",
          "status": "completed"
        },
        "tags": [],
        "colab": {
          "base_uri": "https://localhost:8080/"
        }
      },
      "outputs": [
        {
          "output_type": "execute_result",
          "data": {
            "text/plain": [
              "array(['neutral', 'positive', 'negative'], dtype=object)"
            ]
          },
          "metadata": {},
          "execution_count": 64
        }
      ],
      "source": [
        "tweets['airline_sentiment'].unique()"
      ]
    },
    {
      "cell_type": "code",
      "execution_count": 65,
      "id": "2f1511e6",
      "metadata": {
        "execution": {
          "iopub.execute_input": "2022-06-27T14:56:56.910381Z",
          "iopub.status.busy": "2022-06-27T14:56:56.909649Z",
          "iopub.status.idle": "2022-06-27T14:56:56.921627Z",
          "shell.execute_reply": "2022-06-27T14:56:56.920809Z"
        },
        "id": "2f1511e6",
        "outputId": "2bed100e-438a-4017-fde7-741b5f7c4de7",
        "papermill": {
          "duration": 0.025406,
          "end_time": "2022-06-27T14:56:56.923871",
          "exception": false,
          "start_time": "2022-06-27T14:56:56.898465",
          "status": "completed"
        },
        "tags": [],
        "colab": {
          "base_uri": "https://localhost:8080/"
        }
      },
      "outputs": [
        {
          "output_type": "execute_result",
          "data": {
            "text/plain": [
              "0        0\n",
              "1        1\n",
              "2        0\n",
              "3        2\n",
              "4        2\n",
              "        ..\n",
              "19297    1\n",
              "19298    2\n",
              "19299    0\n",
              "19300    2\n",
              "19301    0\n",
              "Name: airline_sentiment, Length: 19302, dtype: int64"
            ]
          },
          "metadata": {},
          "execution_count": 65
        }
      ],
      "source": [
        "tweets['airline_sentiment'] = tweets['airline_sentiment'].map({'neutral':0,'positive':1,'negative':2})\n",
        "tweets['airline_sentiment']"
      ]
    },
    {
      "cell_type": "code",
      "execution_count": 66,
      "id": "47fbbbaf",
      "metadata": {
        "execution": {
          "iopub.execute_input": "2022-06-27T14:56:56.945192Z",
          "iopub.status.busy": "2022-06-27T14:56:56.944455Z",
          "iopub.status.idle": "2022-06-27T14:56:56.951149Z",
          "shell.execute_reply": "2022-06-27T14:56:56.950046Z"
        },
        "id": "47fbbbaf",
        "outputId": "17320028-c260-4c5c-eaa1-caa4080125ae",
        "papermill": {
          "duration": 0.020234,
          "end_time": "2022-06-27T14:56:56.953615",
          "exception": false,
          "start_time": "2022-06-27T14:56:56.933381",
          "status": "completed"
        },
        "tags": [],
        "colab": {
          "base_uri": "https://localhost:8080/"
        }
      },
      "outputs": [
        {
          "output_type": "execute_result",
          "data": {
            "text/plain": [
              "array(['neutral', 'positive', 'neutral', ..., 'neutral', 'negative',\n",
              "       'neutral'], dtype=object)"
            ]
          },
          "metadata": {},
          "execution_count": 66
        }
      ],
      "source": [
        "labels"
      ]
    },
    {
      "cell_type": "markdown",
      "id": "1570adcf",
      "metadata": {
        "papermill": {
          "duration": 0.009284,
          "end_time": "2022-06-27T14:56:56.972619",
          "exception": false,
          "start_time": "2022-06-27T14:56:56.963335",
          "status": "completed"
        },
        "tags": [],
        "id": "1570adcf"
      },
      "source": [
        "### Preprocess the data and remove unnecessary samples"
      ]
    },
    {
      "cell_type": "code",
      "execution_count": 67,
      "id": "5289280d",
      "metadata": {
        "execution": {
          "iopub.execute_input": "2022-06-27T14:56:56.993112Z",
          "iopub.status.busy": "2022-06-27T14:56:56.992711Z",
          "iopub.status.idle": "2022-06-27T14:56:57.551182Z",
          "shell.execute_reply": "2022-06-27T14:56:57.550058Z"
        },
        "id": "5289280d",
        "papermill": {
          "duration": 0.573016,
          "end_time": "2022-06-27T14:56:57.554981",
          "exception": false,
          "start_time": "2022-06-27T14:56:56.981965",
          "status": "completed"
        },
        "tags": []
      },
      "outputs": [],
      "source": [
        "processed_features = []\n",
        "\n",
        "for sentence in range(0, len(features)):\n",
        "    # Remove all the special characters\n",
        "    processed_feature = re.sub(r'\\W', ' ', str(features[sentence]))\n",
        "\n",
        "    # remove all single characters\n",
        "    processed_feature= re.sub(r'\\s+[a-zA-Z]\\s+', ' ', processed_feature)\n",
        "\n",
        "    # Remove single characters from the start\n",
        "    processed_feature = re.sub(r'\\^[a-zA-Z]\\s+', ' ', processed_feature) \n",
        "\n",
        "    # Substituting multiple spaces with single space\n",
        "    processed_feature = re.sub(r'\\s+', ' ', processed_feature, flags=re.I)\n",
        "\n",
        "    # Removing prefixed 'b'\n",
        "    processed_feature = re.sub(r'^b\\s+', '', processed_feature)\n",
        "\n",
        "    # Converting to Lowercase\n",
        "    processed_feature = processed_feature.lower()\n",
        "\n",
        "    processed_features.append(processed_feature)\n",
        "    \n",
        "#processed_features"
      ]
    },
    {
      "cell_type": "code",
      "source": [
        "print(features[1:100])"
      ],
      "metadata": {
        "colab": {
          "base_uri": "https://localhost:8080/"
        },
        "id": "HJddXjn8qUjH",
        "outputId": "769356fa-1835-4800-cbf4-4632f204d8e4"
      },
      "id": "HJddXjn8qUjH",
      "execution_count": 79,
      "outputs": [
        {
          "output_type": "stream",
          "name": "stdout",
          "text": [
            "[\"@VirginAmerica plus you've added commercials to the experience... tacky.\"\n",
            " \"@VirginAmerica I didn't today... Must mean I need to take another trip!\"\n",
            " '@VirginAmerica it\\'s really aggressive to blast obnoxious \"entertainment\" in your guests\\' faces &amp; they have little recourse'\n",
            " \"@VirginAmerica and it's a really big bad thing about it\"\n",
            " \"@VirginAmerica seriously would pay $30 a flight for seats that didn't have this playing.\\nit's really the only bad thing about flying VA\"\n",
            " '@VirginAmerica yes, nearly every time I fly VX this “ear worm” won’t go away :)'\n",
            " '@VirginAmerica Really missed a prime opportunity for Men Without Hats parody, there. https://t.co/mWpG7grEZP'\n",
            " \"@virginamerica Well, I didn't…but NOW I DO! :-D\"\n",
            " \"@VirginAmerica it was amazing, and arrived an hour early. You're too good to me.\"\n",
            " '@VirginAmerica did you know that suicide is the second leading cause of death among teens 10-24'\n",
            " '@VirginAmerica I &lt;3 pretty graphics. so much better than minimal iconography. :D'\n",
            " \"@VirginAmerica This is such a great deal! Already thinking about my 2nd trip to @Australia &amp; I haven't even gone on my 1st trip yet! ;p\"\n",
            " \"@VirginAmerica @virginmedia I'm flying your #fabulous #Seductive skies again! U take all the #stress away from travel http://t.co/ahlXHhKiyn\"\n",
            " '@VirginAmerica Thanks!' '@VirginAmerica SFO-PDX schedule is still MIA.'\n",
            " \"@VirginAmerica So excited for my first cross country flight LAX to MCO I've heard nothing but great things about Virgin America. #29DaysToGo\"\n",
            " \"@VirginAmerica  I flew from NYC to SFO last week and couldn't fully sit in my seat due to two large gentleman on either side of me. HELP!\"\n",
            " 'I ❤️ flying @VirginAmerica. ☺️👍'\n",
            " '@VirginAmerica you know what would be amazingly awesome? BOS-FLL PLEASE!!!!!!! I want to fly with only you.'\n",
            " '@VirginAmerica why are your first fares in May over three times more than other carriers when all seats are available to select???'\n",
            " '@VirginAmerica I love this graphic. http://t.co/UT5GrRwAaA'\n",
            " '@VirginAmerica I love the hipster innovation. You are a feel good brand.'\n",
            " '@VirginAmerica will you be making BOS&gt;LAS non stop permanently anytime soon?'\n",
            " '@VirginAmerica you guys messed up my seating.. I reserved seating with my friends and you guys gave my seat away ... 😡 I want free internet'\n",
            " \"@VirginAmerica status match program.  I applied and it's been three weeks.  Called and emailed with no response.\"\n",
            " \"@VirginAmerica What happened 2 ur vegan food options?! At least say on ur site so i know I won't be able 2 eat anything for next 6 hrs #fail\"\n",
            " \"@VirginAmerica do you miss me? Don't worry we'll be together very soon.\"\n",
            " \"@VirginAmerica amazing to me that we can't get any cold air from the vents. #VX358 #noair #worstflightever #roasted #SFOtoBOS\"\n",
            " '@VirginAmerica LAX to EWR - Middle seat on a red eye. Such a noob maneuver. #sendambien #andchexmix'\n",
            " \"@VirginAmerica hi! I just bked a cool birthday trip with you, but i can't add my elevate no. cause i entered my middle name during Flight Booking Problems 😢\"\n",
            " '@VirginAmerica Are the hours of operation for the Club at SFO that are posted online current?'\n",
            " '@VirginAmerica help, left expensive headphones on flight 89 IAD to LAX today. Seat 2A. No one answering L&amp;F number at LAX!'\n",
            " '@VirginAmerica awaiting my return phone call, just would prefer to use your online self-service option :('\n",
            " '@VirginAmerica this is great news!  America could start flights to Hawaii by end of year http://t.co/r8p2Zy3fe4 via @Pacificbiznews'\n",
            " 'Nice RT @VirginAmerica: Vibe with the moodlight from takeoff to touchdown. #MoodlitMonday #ScienceBehindTheExperience http://t.co/Y7O0uNxTQP'\n",
            " '@VirginAmerica Moodlighting is the only way to fly! Best experience EVER! Cool and calming. 💜✈ #MoodlitMonday'\n",
            " '@VirginAmerica @freddieawards Done and done! Best airline around, hands down!'\n",
            " '@VirginAmerica when can I book my flight to Hawaii??'\n",
            " '@VirginAmerica Your chat support is not working on your site: http://t.co/vhp2GtDWPk'\n",
            " '@VirginAmerica View of downtown Los Angeles, the Hollywood Sign, and beyond that rain in the mountains! http://t.co/Dw5nf0ibtr'\n",
            " \"@VirginAmerica Hey, first time flyer next week - excited! But I'm having a hard time getting my flights added to my Elevate account. Help?\"\n",
            " '@VirginAmerica plz help me win my bid upgrade for my flight 2/27 LAX---&gt;SEA!!!  🍷👍💺✈️'\n",
            " \"@VirginAmerica I have an unused ticket but moved to a new city where you don't fly. How can I fly with you before it expires? #travelhelp\"\n",
            " '@VirginAmerica are flights leaving Dallas for Seattle on time Feb 24?'\n",
            " \"@VirginAmerica I'm #elevategold for a good reason: you rock!!\"\n",
            " '@VirginAmerica  DREAM http://t.co/oA2dRfAoQ2 http://t.co/lWWdAc2kHx'\n",
            " '@VirginAmerica wow this just blew my mind'\n",
            " '@VirginAmerica @ladygaga @carrieunderwood After last night #tribute #SoundOfMusic #Oscars2015 @ladygaga! I think @carrieunderwood agree'\n",
            " '@VirginAmerica @ladygaga @carrieunderwood All were entertaining'\n",
            " '@VirginAmerica Is flight 769 on it\\'s way? Was supposed to take off 30 minutes ago. Website still shows \"On Time\" not \"In Flight\". Thanks.'\n",
            " '@VirginAmerica @ladygaga @carrieunderwood Julie Andrews all the way though @ladygaga was very impressive! NO to @Carrieunderwood'\n",
            " '@VirginAmerica wish you flew out of Atlanta... Soon?'\n",
            " '@VirginAmerica @ladygaga @carrieunderwood Julie Andrews. Hands down.'\n",
            " '@VirginAmerica Will flights be leaving Dallas for LA on February 24th?'\n",
            " \"@VirginAmerica hi! i'm so excited about your $99 LGA-&gt;DAL deal- but i've been trying 2 book since last week &amp; the page never loads. thx!\"\n",
            " '@VirginAmerica you know it. Need it on my spotify stat #guiltypleasures'\n",
            " \"@VirginAmerica @ladygaga @carrieunderwood  I'm Lady Gaga!!! She is amazing! 😊\"\n",
            " '@VirginAmerica @ladygaga @carrieunderwood - Carrie!'\n",
            " '@VirginAmerica New marketing song? https://t.co/F2LFULCbQ7 let us know what you think?'\n",
            " \"@VirginAmerica @ladygaga @carrieunderwood Julie Andrews first but Lady Gaga wow'd me last night. Carrie? Meh.\"\n",
            " \"@VirginAmerica I called a 3-4 weeks ago about adding 3 flights from 2014 to my Elevate...they still haven't shown up...help!\"\n",
            " '@VirginAmerica @ladygaga @carrieunderwood all are great , but I have to go with #CarrieUnderwood 😍👌'\n",
            " '@VirginAmerica @LadyGaga @CarrieUnderwood Sorry, Mary Martin had it first!'\n",
            " \"@VirginAmerica @ladygaga @carrieunderwood  love all three but you really can't beat the classics!\"\n",
            " '@VirginAmerica Flight 0736 DAL to DCA 2/24 2:10pm. Tried to check in could not. Status please.'\n",
            " '@VirginAmerica heyyyy guyyyys.. been trying to get through for an hour. can someone call me please? :/'\n",
            " \"@VirginAmerica Hi, Virgin! I'm on hold for 40-50 minutes -- are there any earlier flights from LA to NYC tonight; earlier than 11:50pm?\"\n",
            " '@VirginAmerica Congrats on winning the @Travelzoo award for Best Deals from an Airline (US) http://t.co/kj1iljaebV'\n",
            " '@VirginAmerica everything was fine until you lost my bag'\n",
            " '@virginamerica Need to change reservation. Have Virgin credit card. Do I need to modify on phone to waive change fee? Or can I do online?'\n",
            " '@VirginAmerica I emailed your customer service team. Let me know if you need the tracking number.'\n",
            " '@VirginAmerica hi I just booked a flight but need to add baggage, how can I do this?'\n",
            " '@VirginAmerica your airline is awesome but your lax loft needs to step up its game. $40 for dirty tables and floors? http://t.co/hy0VrfhjHt'\n",
            " \"@VirginAmerica not worried, it's been a great ride in a new plane with great crew. All airlines should be like this.\"\n",
            " '@VirginAmerica awesome. I flew yall Sat morning. Any way we can correct my bill ?'\n",
            " '@VirginAmerica Or watch some of the best student films in the country at 35,000 feet! #CMFat35000feet http://t.co/KEK5pDMGiF'\n",
            " '@VirginAmerica first time flying you all. do you have a different rate/policy for media Bags? Thanks'\n",
            " '@VirginAmerica what is going on with customer service? Is there anyway to speak to a human asap? Thank you.'\n",
            " '@VirginAmerica what happened to Doom?!'\n",
            " \"@VirginAmerica why can't you supp the biz traveler like @SouthwestAir  and have customer service like @JetBlue #neverflyvirginforbusiness\"\n",
            " \"@VirginAmerica I've applied more then once to be a member of the #inflight crew team...Im 100% interested. #flightattendant #dreampath -G\"\n",
            " \"@VirginAmerica you're the best!! Whenever I (begrudgingly) use any other airline I'm delayed and Late Flight :(\"\n",
            " '@VirginAmerica I have no interesting flying with you after this. I will Cancelled Flight my next four flights I planned.#neverflyvirginforbusiness'\n",
            " '@VirginAmerica it was a disappointing experience which will be shared with every business traveler I meet. #neverflyvirgin'\n",
            " '@VirginAmerica I’m having trouble adding this flight my wife booked to my Elevate account. Help? http://t.co/pX8hQOKS3R'\n",
            " \"@VirginAmerica Can't bring up my reservation online using Flight Booking Problems code\"\n",
            " \"@VirginAmerica Random Q: what's the distribution of elevate avatars? I bet that kitty has a disproportionate share http://t.co/APtZpuROp4\"\n",
            " '@VirginAmerica I &lt;3 Flying VA But Life happens and I am trying to #change my trip JPERHI  Can you help.VA home page will not let me ?'\n",
            " '@VirginAmerica Why is the site down?  When will it be back up?'\n",
            " '@VirginAmerica \"You down with RNP?\" \"Yeah you know me!\"'\n",
            " '@VirginAmerica hi, i did not get points on my elevate account for my most recent flight, how do i add the flight and points to my account?'\n",
            " '@VirginAmerica I like the TV and interesting video . Just disappointed in Cancelled Flightled flight when other flights went out to jfk on Saturday .'\n",
            " '@VirginAmerica just landed in LAX, an hour after I should of been here. Your no Late Flight bag check is not business travel friendly #nomorevirgin'\n",
            " '@VirginAmerica why is flight 345 redirected?'\n",
            " \"@VirginAmerica Is it me, or is your website down?  BTW, your new website isn't a great user experience.  Time for another redesign.\"\n",
            " \"@VirginAmerica I can't check in or add a bag. Your website isn't working. I've tried both desktop and mobile http://t.co/AvyqdMpi1Y\"\n",
            " '@VirginAmerica - Let 2 scanned in passengers leave the plane than told someone to remove their bag from 1st class bin? #uncomfortable'\n",
            " \"@virginamerica What is your phone number. I can't find who to call about a flight reservation.\"\n",
            " '@VirginAmerica is anyone doing anything there today?  Website is useless and no one is answering the phone.']\n"
          ]
        }
      ]
    },
    {
      "cell_type": "markdown",
      "id": "dcff2bed",
      "metadata": {
        "papermill": {
          "duration": 0.011891,
          "end_time": "2022-06-27T14:56:57.579767",
          "exception": false,
          "start_time": "2022-06-27T14:56:57.567876",
          "status": "completed"
        },
        "tags": [],
        "id": "dcff2bed"
      },
      "source": [
        "## Vectorize the sentances"
      ]
    },
    {
      "cell_type": "code",
      "execution_count": 69,
      "id": "35bb7abc",
      "metadata": {
        "execution": {
          "iopub.execute_input": "2022-06-27T14:56:57.606091Z",
          "iopub.status.busy": "2022-06-27T14:56:57.605340Z",
          "iopub.status.idle": "2022-06-27T14:56:58.628827Z",
          "shell.execute_reply": "2022-06-27T14:56:58.627792Z"
        },
        "id": "35bb7abc",
        "papermill": {
          "duration": 1.039347,
          "end_time": "2022-06-27T14:56:58.631350",
          "exception": false,
          "start_time": "2022-06-27T14:56:57.592003",
          "status": "completed"
        },
        "tags": []
      },
      "outputs": [],
      "source": [
        "vectorizer = TfidfVectorizer(stop_words=\"english\")\n",
        "X = vectorizer.fit_transform(processed_features)\n",
        "X.toarray()\n",
        "y = tweets['airline_sentiment']"
      ]
    },
    {
      "cell_type": "code",
      "execution_count": 70,
      "id": "6ec1762b",
      "metadata": {
        "execution": {
          "iopub.execute_input": "2022-06-27T14:56:58.658197Z",
          "iopub.status.busy": "2022-06-27T14:56:58.657554Z",
          "iopub.status.idle": "2022-06-27T14:56:58.662137Z",
          "shell.execute_reply": "2022-06-27T14:56:58.661348Z"
        },
        "id": "6ec1762b",
        "papermill": {
          "duration": 0.020517,
          "end_time": "2022-06-27T14:56:58.664359",
          "exception": false,
          "start_time": "2022-06-27T14:56:58.643842",
          "status": "completed"
        },
        "tags": []
      },
      "outputs": [],
      "source": [
        "def kfold_train_test_split(x, y, train_indices, test_indices):\n",
        "  return x[train_indices], x[test_indices], y[train_indices], y[test_indices]"
      ]
    },
    {
      "cell_type": "markdown",
      "id": "6d6ac930",
      "metadata": {
        "papermill": {
          "duration": 0.011579,
          "end_time": "2022-06-27T14:56:58.687769",
          "exception": false,
          "start_time": "2022-06-27T14:56:58.676190",
          "status": "completed"
        },
        "tags": [],
        "id": "6d6ac930"
      },
      "source": [
        "## Split the data and Building the model"
      ]
    },
    {
      "cell_type": "code",
      "execution_count": 139,
      "id": "22dcd9e1",
      "metadata": {
        "execution": {
          "iopub.execute_input": "2022-06-27T14:56:58.713534Z",
          "iopub.status.busy": "2022-06-27T14:56:58.712899Z",
          "iopub.status.idle": "2022-06-27T15:01:54.249404Z",
          "shell.execute_reply": "2022-06-27T15:01:54.248251Z"
        },
        "id": "22dcd9e1",
        "outputId": "3e11bf26-567e-44ca-c7d4-3c0452e7df24",
        "papermill": {
          "duration": 295.563524,
          "end_time": "2022-06-27T15:01:54.263050",
          "exception": false,
          "start_time": "2022-06-27T14:56:58.699526",
          "status": "completed"
        },
        "tags": [],
        "colab": {
          "base_uri": "https://localhost:8080/",
          "height": 112
        }
      },
      "outputs": [
        {
          "output_type": "execute_result",
          "data": {
            "text/plain": [
              "   accuracy\n",
              "0  0.864319\n",
              "1  0.877784"
            ],
            "text/html": [
              "\n",
              "  <div id=\"df-573a534c-b4dc-4798-8221-e02744a34379\">\n",
              "    <div class=\"colab-df-container\">\n",
              "      <div>\n",
              "<style scoped>\n",
              "    .dataframe tbody tr th:only-of-type {\n",
              "        vertical-align: middle;\n",
              "    }\n",
              "\n",
              "    .dataframe tbody tr th {\n",
              "        vertical-align: top;\n",
              "    }\n",
              "\n",
              "    .dataframe thead th {\n",
              "        text-align: right;\n",
              "    }\n",
              "</style>\n",
              "<table border=\"1\" class=\"dataframe\">\n",
              "  <thead>\n",
              "    <tr style=\"text-align: right;\">\n",
              "      <th></th>\n",
              "      <th>accuracy</th>\n",
              "    </tr>\n",
              "  </thead>\n",
              "  <tbody>\n",
              "    <tr>\n",
              "      <th>0</th>\n",
              "      <td>0.864319</td>\n",
              "    </tr>\n",
              "    <tr>\n",
              "      <th>1</th>\n",
              "      <td>0.877784</td>\n",
              "    </tr>\n",
              "  </tbody>\n",
              "</table>\n",
              "</div>\n",
              "      <button class=\"colab-df-convert\" onclick=\"convertToInteractive('df-573a534c-b4dc-4798-8221-e02744a34379')\"\n",
              "              title=\"Convert this dataframe to an interactive table.\"\n",
              "              style=\"display:none;\">\n",
              "        \n",
              "  <svg xmlns=\"http://www.w3.org/2000/svg\" height=\"24px\"viewBox=\"0 0 24 24\"\n",
              "       width=\"24px\">\n",
              "    <path d=\"M0 0h24v24H0V0z\" fill=\"none\"/>\n",
              "    <path d=\"M18.56 5.44l.94 2.06.94-2.06 2.06-.94-2.06-.94-.94-2.06-.94 2.06-2.06.94zm-11 1L8.5 8.5l.94-2.06 2.06-.94-2.06-.94L8.5 2.5l-.94 2.06-2.06.94zm10 10l.94 2.06.94-2.06 2.06-.94-2.06-.94-.94-2.06-.94 2.06-2.06.94z\"/><path d=\"M17.41 7.96l-1.37-1.37c-.4-.4-.92-.59-1.43-.59-.52 0-1.04.2-1.43.59L10.3 9.45l-7.72 7.72c-.78.78-.78 2.05 0 2.83L4 21.41c.39.39.9.59 1.41.59.51 0 1.02-.2 1.41-.59l7.78-7.78 2.81-2.81c.8-.78.8-2.07 0-2.86zM5.41 20L4 18.59l7.72-7.72 1.47 1.35L5.41 20z\"/>\n",
              "  </svg>\n",
              "      </button>\n",
              "      \n",
              "  <style>\n",
              "    .colab-df-container {\n",
              "      display:flex;\n",
              "      flex-wrap:wrap;\n",
              "      gap: 12px;\n",
              "    }\n",
              "\n",
              "    .colab-df-convert {\n",
              "      background-color: #E8F0FE;\n",
              "      border: none;\n",
              "      border-radius: 50%;\n",
              "      cursor: pointer;\n",
              "      display: none;\n",
              "      fill: #1967D2;\n",
              "      height: 32px;\n",
              "      padding: 0 0 0 0;\n",
              "      width: 32px;\n",
              "    }\n",
              "\n",
              "    .colab-df-convert:hover {\n",
              "      background-color: #E2EBFA;\n",
              "      box-shadow: 0px 1px 2px rgba(60, 64, 67, 0.3), 0px 1px 3px 1px rgba(60, 64, 67, 0.15);\n",
              "      fill: #174EA6;\n",
              "    }\n",
              "\n",
              "    [theme=dark] .colab-df-convert {\n",
              "      background-color: #3B4455;\n",
              "      fill: #D2E3FC;\n",
              "    }\n",
              "\n",
              "    [theme=dark] .colab-df-convert:hover {\n",
              "      background-color: #434B5C;\n",
              "      box-shadow: 0px 1px 3px 1px rgba(0, 0, 0, 0.15);\n",
              "      filter: drop-shadow(0px 1px 2px rgba(0, 0, 0, 0.3));\n",
              "      fill: #FFFFFF;\n",
              "    }\n",
              "  </style>\n",
              "\n",
              "      <script>\n",
              "        const buttonEl =\n",
              "          document.querySelector('#df-573a534c-b4dc-4798-8221-e02744a34379 button.colab-df-convert');\n",
              "        buttonEl.style.display =\n",
              "          google.colab.kernel.accessAllowed ? 'block' : 'none';\n",
              "\n",
              "        async function convertToInteractive(key) {\n",
              "          const element = document.querySelector('#df-573a534c-b4dc-4798-8221-e02744a34379');\n",
              "          const dataTable =\n",
              "            await google.colab.kernel.invokeFunction('convertToInteractive',\n",
              "                                                     [key], {});\n",
              "          if (!dataTable) return;\n",
              "\n",
              "          const docLinkHtml = 'Like what you see? Visit the ' +\n",
              "            '<a target=\"_blank\" href=https://colab.research.google.com/notebooks/data_table.ipynb>data table notebook</a>'\n",
              "            + ' to learn more about interactive tables.';\n",
              "          element.innerHTML = '';\n",
              "          dataTable['output_type'] = 'display_data';\n",
              "          await google.colab.output.renderOutput(dataTable, element);\n",
              "          const docLink = document.createElement('div');\n",
              "          docLink.innerHTML = docLinkHtml;\n",
              "          element.appendChild(docLink);\n",
              "        }\n",
              "      </script>\n",
              "    </div>\n",
              "  </div>\n",
              "  "
            ]
          },
          "metadata": {},
          "execution_count": 139
        }
      ],
      "source": [
        "stratified_shuffled_k_fold = model_selection.StratifiedShuffleSplit(n_splits=2)\n",
        "\n",
        "scores = [] \n",
        "\n",
        "\n",
        "for train_indices, test_indices in stratified_shuffled_k_fold.split(X,y):\n",
        "  # Split data using our predefined function\n",
        "  x_train, x_test, y_train, y_test = kfold_train_test_split(X, y, train_indices, test_indices)\n",
        "\n",
        "  # Train model\n",
        "  randomforest_model = RandomForestClassifier()\n",
        "  randomforest_model.fit(x_train, y_train)\n",
        "\n",
        "  # Predict using test set\n",
        "  y_pred_train = randomforest_model.predict(x_train)\n",
        "  y_pred = randomforest_model.predict(x_test)\n",
        "\n",
        "  # Calculate scores\n",
        "  accuracy = accuracy_score(y_test, y_pred)\n",
        "\n",
        "  # Create scores dictionary\n",
        "  scores_dict = {\"accuracy\": accuracy}\n",
        "\n",
        "  # Append to scores array\n",
        "  scores.append(scores_dict)\n",
        "\n",
        "\n",
        "scores_df = pd.DataFrame(scores)\n",
        "scores_df"
      ]
    },
    {
      "cell_type": "code",
      "source": [
        "len(train_indices)\n"
      ],
      "metadata": {
        "colab": {
          "base_uri": "https://localhost:8080/"
        },
        "id": "7lvKUKzkwCY4",
        "outputId": "637bbf9d-ef70-4a92-ae28-915aef52a757"
      },
      "id": "7lvKUKzkwCY4",
      "execution_count": 112,
      "outputs": [
        {
          "output_type": "execute_result",
          "data": {
            "text/plain": [
              "17371"
            ]
          },
          "metadata": {},
          "execution_count": 112
        }
      ]
    },
    {
      "cell_type": "code",
      "execution_count": 72,
      "id": "29c4ab94",
      "metadata": {
        "execution": {
          "iopub.execute_input": "2022-06-27T15:01:54.289610Z",
          "iopub.status.busy": "2022-06-27T15:01:54.288476Z",
          "iopub.status.idle": "2022-06-27T15:01:54.297334Z",
          "shell.execute_reply": "2022-06-27T15:01:54.296554Z"
        },
        "id": "29c4ab94",
        "outputId": "b3057685-b648-48a9-a24d-9309df2b64ce",
        "papermill": {
          "duration": 0.02467,
          "end_time": "2022-06-27T15:01:54.299710",
          "exception": false,
          "start_time": "2022-06-27T15:01:54.275040",
          "status": "completed"
        },
        "tags": [],
        "colab": {
          "base_uri": "https://localhost:8080/"
        }
      },
      "outputs": [
        {
          "output_type": "execute_result",
          "data": {
            "text/plain": [
              "0.8713102019678922"
            ]
          },
          "metadata": {},
          "execution_count": 72
        }
      ],
      "source": [
        "scores_df['accuracy'].mean()"
      ]
    },
    {
      "cell_type": "code",
      "source": [
        "import random\n",
        "labs=np.array(['neutral', 'positive', 'negative'])\n",
        "vectorizer = TfidfVectorizer(stop_words=\"english\")\n",
        "prediction_train = randomforest_model.predict(x_train)\n",
        "prediction = randomforest_model.predict(x_test)\n",
        "\n",
        "for i in range(200):\n",
        "    print(features[test_indices[i]])\n",
        "    predictions1=(prediction[i])\n",
        "    print('Result is :',labs[predictions1])\n",
        "\n"
      ],
      "metadata": {
        "colab": {
          "base_uri": "https://localhost:8080/"
        },
        "id": "tmraYa8VqeKq",
        "outputId": "a2454f21-cdf9-40af-e366-f59f547a4568"
      },
      "id": "tmraYa8VqeKq",
      "execution_count": 178,
      "outputs": [
        {
          "output_type": "stream",
          "name": "stdout",
          "text": [
            "@USAirways epic fail @ CLT ystrdy w/Cancelled Flightled flights. No staff, no communication &amp; no refund for unused portion of tix. Keep it classy guys\n",
            "Result is : negative\n",
            "@SouthwestAir  when you take my money and do not provide a service makes for a profitable venture for your company. #IsItTheGaryKellyWay?\n",
            "Result is : negative\n",
            "@JetBlue the fact that #ChrisHasMadeUsBLUSH isn't trending is how you know I'm loyal ;)\n",
            "Result is : neutral\n",
            "@JetBlue being told JFK had a 5 hour delay this AM which is reason for my delay now. It can't be that hard to notify with 12 hours notice\n",
            "Result is : negative\n",
            "@SouthwestAir your checkin system is #poor\n",
            "Result is : negative\n",
            "@AmericanAir thanks, I'll look forward to the response.\n",
            "Result is : positive\n",
            "@united the only difference being you are both responsible and in a position to do something about them. Learn from @Delta\n",
            "Result is : negative\n",
            "@SouthwestAir I would love to go to the Atlanta show ♥️\n",
            "Result is : positive\n",
            "@JetBlue where do I add my AA loyalty number to my Jetblue reservation?\n",
            "Result is : neutral\n",
            "@SouthwestAir will you please start offering services out of @triflight and @AshevilleAir to other airports.. Have to drive 3-4 hrs to use u\n",
            "Result is : negative\n",
            "@JetBlue w/ edits: Dear @msbgu , your MBAs need better benefits. They should work for us. How can we meet them?\n",
            "Result is : neutral\n",
            "@SouthwestAir have to be honest, didn't expect a fast response, thank you!  Off to #Chiberia we go!\n",
            "Result is : positive\n",
            "@JetBlue thank you! I'm excited to fly with you for the first time.\n",
            "Result is : positive\n",
            "@AmericanAir Can I use an SWU on an Finnair codeshare of an American operated flight (JFK-MAN)?  Thanks in advance for the help!\n",
            "Result is : negative\n",
            "@JetBlue PR-friendly tweets don't help drive accountability. Hope Mr. Hayes takes note.\n",
            "Result is : negative\n",
            "@JetBlue Flights 1384 and 1583. I have picked up twice this week for 1583, and both times it was delayed!! 😕\n",
            "Result is : negative\n",
            "@united On a standby to Denver, which has been delayed, and a confirmed to Aspen, whose flights have been Cancelled Flighted all day. 0 confidence.\n",
            "Result is : negative\n",
            "@SouthwestAir Learn how to give folks on multiple flights the same day boarding position at least if you can't give them  boarding passes.\n",
            "Result is : negative\n",
            "@united you have a guy named Otis at ORD that knows what #customerservice is. he was able to get my bag to me. I upgraded just to be sure\n",
            "Result is : negative\n",
            "@united where is our luggage\n",
            "Result is : negative\n",
            "@united this delay of flight UA4636 has been painful. I sure hope it doesn't cause me or my luggage) to miss my UA82 flight to New Delhi!\n",
            "Result is : negative\n",
            "@united Thank you so much for your help with my birthday trip! Tickets are confirmed! :-)\n",
            "Result is : positive\n",
            "@SouthwestAir Are there discounts every tuesday cause Im leaving fron Birmingham Airport to San fran Next week in march sometime\n",
            "Result is : neutral\n",
            "@AmericanAir #AmericanAirlines says most bags left in Miami have been returned following mechanical glitch &gt;&gt; http://t.co/Ib8kyjBCJM\n",
            "Result is : negative\n",
            "@americanair 30 minutes since landing - flight 1531 from Miami and no luggage- what's the delay\n",
            "Result is : negative\n",
            "@SouthwestAir how it feels on flight 4251 http://t.co/JM8gQ1KGrF\n",
            "Result is : negative\n",
            "@USAirways baggage drop at phl b/c is incredibly backed up... unacceptable service\n",
            "Result is : negative\n",
            "@united she was at the service desk at gate 21, and helped us find a flight to get us to our dest. on time when our flight got Cancelled Flightled\n",
            "Result is : negative\n",
            "@SouthwestAir when will you have flight from DAL to PVD?\n",
            "Result is : neutral\n",
            "@USAirways #555PHLtoSLC this is happening now.\n",
            "Result is : negative\n",
            "@united reinstating the kosher meals that were dropped shortly after the merger?\n",
            "Result is : negative\n",
            "@SouthwestAir you guys need better communication to your customers. This is rude and unprofessional.\n",
            "Result is : negative\n",
            "@SouthwestAir The problem is apologies don't help. Results matter and it's proving impossible to find anyone who is interested in that.\n",
            "Result is : negative\n",
            "@USAirways how's us 1797 looking today?\n",
            "Result is : negative\n",
            "@AmericanAir I understand they're busy &amp; doing their best. My frustration is an automated call changing my flight w/o allowing me to talk\n",
            "Result is : negative\n",
            "@united doesn't purchasing ticket with a united card give me priority boarding ?\n",
            "Result is : negative\n",
            "“@JetBlue: Our fleet's on fleek. http://t.co/yZH4ZRQM0i” really JetBlue? #fleek?!!! 😂😂😂 hell no... Yall petty\n",
            "Result is : negative\n",
            "@united Filled in the form you sent the link to on 29.1.15 and then either 9 or 10.2.15\n",
            "Result is : negative\n",
            "@USAirways here we go again. Same flight as last week. Delayed already 45 mins. Think the 7:15 can leave PHL before 1:15 am? #waitingagain\n",
            "Result is : negative\n",
            "@United is freaking worthless. I hate this airline. http://t.co/dN1if2cGwE\n",
            "Result is : negative\n",
            "@JetBlue thank you for the information.\n",
            "Result is : positive\n",
            "@USAirways Sitting in a cesspool of germs on the ground in #PHL for 2 hours now.\n",
            "Result is : negative\n",
            "@USAirways then drop your fee! $150 ($300RT!!!!) makes no sense; most EU airlines charge $0. @AirCanada charges a reasonable $50.\n",
            "Result is : negative\n",
            "@SouthwestAir   Where the heck are the bags for Chicago 408. It has been an hour\n",
            "Result is : negative\n",
            "@AmericanAir To think that I'm a \"Priority Member\"! Wonder how you treat the plebes. I know which rewards card I'm Cancelled Flightling immediately.\n",
            "Result is : negative\n",
            "@united Is a snowboard boot bag included in the standard checked baggage next to the snowboard bag?\n",
            "Result is : negative\n",
            "@JetBlue just a very rude rep while trying to book family vacation using trvl credit. on phone w/ new rep now who is being very helpful\n",
            "Result is : negative\n",
            "@USAirways strikes again--Late Flight crew #3/4 for the trip and maintenance #2/4.  Worth the extra $200/trip for less hassle and fewer delays\n",
            "Result is : negative\n",
            "@USAirways @AmericanAir First Class all the way!!💺✈️ Headed to @portlandjetport http://t.co/kDMq0jps02\n",
            "Result is : negative\n",
            "@united Couldn't use the confirmed upgd cert you gave me b/c you decided to sell anyone a biz seat for $299. Why do you bother giving them?\n",
            "Result is : negative\n",
            "@americanair flight veers off icy runway at @dfwairport. Most DFW flights Cancelled Flighted Monday, Flightaware says. http://t.co/atwyiFh6Zy\n",
            "Result is : negative\n",
            "@AmericanAir If it's in my backpack, why do I need to see agent?\n",
            "Result is : negative\n",
            "@united any chance you can troubleshoot check ins at @FlyYOW ? We're at 20 minutes per person.\n",
            "Result is : negative\n",
            "@AmericanAir no private msg me and will provide details...u really need customer svc training for your staff\n",
            "Result is : negative\n",
            "@SouthwestAir flight Cancelled Flightled, stuck for 3 days. Paid for \"A\" boarding. Refused to honor it with rescheduled flight\n",
            "Result is : negative\n",
            "@JetBlue I'm on flt 700 lax to FLL both ppl are sleeping so Id rather not disturb in flight. Tried to dl movie no go http://t.co/Nh2i9ZlzMk\n",
            "Result is : negative\n",
            "@JetBlue should i continue?\n",
            "Result is : negative\n",
            "@united but the gate agent and club staff got me priority standby for next so might only be minor disaster...#travelingwithsmallkids\n",
            "Result is : negative\n",
            "@USAirways @PHLAirport always nice when a customer service manager threatens customers standing in his understaffed lines for the last hour\n",
            "Result is : negative\n",
            "@SouthwestAir  goes to court to gain access to @Delta gates at Love Field  http://t.co/ILqzmMJiYQ #deltanews\n",
            "Result is : neutral\n",
            "@JetBlue I understand why ur doing it. But for someone who just traveled 2+ hours to get here early. Relax b4 flight etc. Adv notice maybe??\n",
            "Result is : negative\n",
            "@VirginAmerica New marketing song? https://t.co/F2LFULCbQ7 let us know what you think?\n",
            "Result is : neutral\n",
            "@SouthwestAir make this delay go away. Maybe upgrade me and Kats seats. We are headed to Columbus.\n",
            "Result is : negative\n",
            "@united has once again let me down. Don't think I've ever flown with them and not had problems. Worst airline period.\n",
            "Result is : negative\n",
            "@united so if this game was the one reason I payed for @DIRECTV is there something we could work out here? http://t.co/HQDTK6aTue\n",
            "Result is : negative\n",
            "@SouthwestAir can you speed up your flight from AZ to Omaha? I need to see muh boy ✈️\n",
            "Result is : neutral\n",
            "@AmericanAir don't worry you won't steal my money again\n",
            "Result is : negative\n",
            "@SouthwestAir @FortuneMagazine Congrats!\n",
            "Result is : positive\n",
            "@SouthwestAir All pieces were found and safely delivered to our home this afternoon.\n",
            "Result is : positive\n",
            "@AmericanAir try this. DPDFPP\n",
            "Result is : negative\n",
            "@united here is my case id 8473573. Requested on 2/5, now it's 2/19... 7-10 days I'll get a response, BS!\n",
            "Result is : negative\n",
            "@SouthwestAir and YOUR costumer service representative lied to me and ensured me the plane would be leaving by 330.. It's scheduled for 455\n",
            "Result is : negative\n",
            "@united Hi if a premium ec upgrade was paid for &amp; then a mileage BF upgrade done is the prem Eco upgrade fare refunded?\n",
            "Result is : negative\n",
            "@USAirways thanks for the reply, hoping everything is cleared up in Charlotte by Monday\n",
            "Result is : negative\n",
            "@southwestAir SWA agent Jacquie Plitt @Orangecounty SNA rudely tells me You're not going 2 CABO today or manana back 2 PHX flew @USAirways\n",
            "Result is : negative\n",
            "@AmericanAir while I'm sensitive to this fact, I don't believe that warrants poor service. A little help &amp; compassion goes a long way.\n",
            "Result is : negative\n",
            "@AmericanAir great thank you\n",
            "Result is : positive\n",
            "@united what incentive do I have to give you another chance?\n",
            "Result is : neutral\n",
            "@USAirways 1729 connecting in charlotte to houston. Mechanical issue determined while q'd to take off. And we checked our bags.\n",
            "Result is : negative\n",
            "@united all goods, I'll call tomorrow, thanks.\n",
            "Result is : positive\n",
            "@AmericanAir I like the call back system. But thought you'd like to know it's not working well. I received three calls but there's no audio.\n",
            "Result is : negative\n",
            "@AmericanAir I tried to check in, but they redirect me to call in to @USAirways, which I also can't get into contact with\n",
            "Result is : negative\n",
            "@united is that all that matters, not the fact that we're at a different destination, we were put through a tremendous amount of stress,\n",
            "Result is : negative\n",
            "@JetBlue @TSA JetBlue never disappoints !\n",
            "Result is : positive\n",
            "@SouthwestAir Is the 1,750 bonus at 1800Flowers still on or did it expire 2/14/15?\n",
            "Result is : negative\n",
            "@SouthwestAir I urgently need two receipts sent but CS is closed. Can you help?\n",
            "Result is : negative\n",
            "@united 132 characters does not cover my reasons I'm afraid\n",
            "Result is : negative\n",
            "@SouthwestAir Yes, but I like need my luggage before tomorrow morning\n",
            "Result is : negative\n",
            "@USAirways how do I get you to stop sending me emails about my ex boyfriends account? I don't care how many points he has! He only has\n",
            "Result is : negative\n",
            "@AmericanAir Funny you should say that. I have been monitoring since January 1st. No change in availability. #fakeawards #LUVisbetter\n",
            "Result is : negative\n",
            "“@JetBlue: @maatkare67 We hope you're still our bae! @TatianaKing @thewayoftheid”haa man\n",
            "Result is : neutral\n",
            "@AmericanAir 4hrs Late Flightr i get a call back, and immediately disconnected\n",
            "Result is : negative\n",
            "@JetBlue tried again. Lovely customer service. Thank you!\n",
            "Result is : positive\n",
            "@USAirways knows customer service!! Thank you for starting our 2 week vacay on an amazing note! Thank you sarita!!!\n",
            "Result is : positive\n",
            "@SouthwestAir All good... beers and #oscars2015 ar #DIA\n",
            "Result is : positive\n",
            "@AmericanAir @_emmaclifford No. At JFK you sort of have to guess things out. It's a small airport, so whatever.\n",
            "Result is : negative\n",
            "@SouthwestAir wifi is the worst $8 investment I have ever made.\n",
            "Result is : negative\n",
            "@united is a joke.  Lots of angry people at IAH this AM.\n",
            "Result is : negative\n",
            "@VirginAmerica How can I watch the #Oscars2015 on my JFK-&gt;SFO flight?\n",
            "Result is : neutral\n",
            "@SouthwestAir No monkey business we luv SWA!! #mdw2mci #homeandreadyfornexttrip http://t.co/2xJvUn66ZZ\n",
            "Result is : neutral\n",
            "Just sent thank u RT @united: @goodenufmother Please DM your confirmation number if reFlight Booking Problems is needed. Thank you. ^EY\n",
            "Result is : positive\n",
            "@JetBlue just DMed. thanks so much for addressing this so quickly.\n",
            "Result is : positive\n",
            "@united Brandi Zabsonre in Denver deserves a raise for bringing delight into a terrible travel situation. big ups http://t.co/TK3aOpdtSQ\n",
            "Result is : negative\n",
            "“@JetBlue: Our fleet's on fleek. http://t.co/jm4GeyXbY5”LOL\n",
            "Result is : neutral\n",
            "@AmericanAir you guys need to educate your employees on what a pink tag is AND STOP LOSING MY GUITAR FOR THE 10 THOUSANDTH TIME!\n",
            "Result is : negative\n",
            "@JetBlue @julesdameron \"Considering?\" #Accessibility is an absolute MUST! #Equality\n",
            "Result is : negative\n",
            "@AmericanAir got off the phone w/ rep now flight has disappeared. Locator IRRLCD she said I was rescheduled. Help please.\n",
            "Result is : negative\n",
            "@united that's the reply? Lol hoping that at least the new plane was maintained before the flight. 😒\n",
            "Result is : negative\n",
            "@SouthwestAir get me on flight 4146 to denver and I'll be more than happy !!!!!\n",
            "Result is : neutral\n",
            "@AmericanAir record locator oaaret got email we couldn't be rebooked but got no notification flight was Cancelled Flightled\n",
            "Result is : negative\n",
            "@JetBlue you've let me down. 2:15 delay at JFK because of inbound flight from Syracuse, really? #ishouldhavedriven\n",
            "Result is : negative\n",
            "@JetBlue and have empty \"help\" desks\n",
            "Result is : negative\n",
            "@united @highbuddyyy that totally sucks my cousin worked at PHL said @united\n",
            "Result is : negative\n",
            "@JetBlue but thank you! Love, an anxious flyer.\n",
            "Result is : positive\n",
            "@SouthwestAir I filled in the form on the website too. Darn it all. I guess I'll just have to cross my fingers.\n",
            "Result is : negative\n",
            "@JetBlue 2 words: \"staff training.\" What a joke-\n",
            "Result is : negative\n",
            "@USAirways great operation you guys are running. More mechanical issues, and now taping piece of plane together LOL http://t.co/I5V9wfbtuE\n",
            "Result is : negative\n",
            "@JetBlue thank you! Headed from LBC to OAK !\n",
            "Result is : neutral\n",
            "@JetBlue BEST SEAT ON A E190 to board early. READY. SET. GO!\n",
            "Result is : positive\n",
            "@JetBlue Vegas, San Francisco, Baltimore, San Diego and Philadelphia so far! I'm a very frequent business traveler.\n",
            "Result is : positive\n",
            "@AmericanAir Cancelled Flightled 2 of my flights for maintenance. Customer service desk is empty... Can I get a hotel at least? http://t.co/ypbkCiRBXu\n",
            "Result is : negative\n",
            "@USAirways OFFERING to give up my bag which you usually have to force passengers to do. I am in a state of shock.\n",
            "Result is : negative\n",
            "@JetBlue thanks for getting me to Boston early for @TuftsEnergyConf \"Breaking Barriers To a Clean Energy Future\"\n",
            "Result is : positive\n",
            "@SouthwestAir not yet! Supposed to get it early evening tonight. Don't want to have to go to the store and buy new necessities.\n",
            "Result is : negative\n",
            "@SouthwestAir we're doing our best; sitting at a gate waiting (while not being given information why we're delayed) isn't making this easy\n",
            "Result is : negative\n",
            "@AmericanAir @gerri_elliott You will!! Every chance I get! Thanks for keeping me Exec Platinum.\n",
            "Result is : positive\n",
            "@JetBlue I may not make my connection and need to find out my options, yet no one is here.\n",
            "Result is : negative\n",
            "@united Which just speaks to basically the worst designed web system ever.\n",
            "Result is : negative\n",
            "@USAirways Do you have any pride in your service? Any concerns for my wife and everyone else on that flight? Or you just don't care????!!!\n",
            "Result is : negative\n",
            "@JetBlue i am sharing it to the public. I fly 20 times a year and sitting now on the tarmac in fll. Your staff is the worst i ever met.\n",
            "Result is : negative\n",
            "@SouthwestAir - 800 is not int'l friendly\n",
            "Result is : neutral\n",
            "@VirginAmerica I think i left something on the plane yesterday. who do i call...ah!\n",
            "Result is : negative\n",
            "@AmericanAir Thx! I hope so. IAH to DFW to OKC has turned out to be a LONG trip today and I have to work tomorrow.\n",
            "Result is : negative\n",
            "@southwestair I've been on hold for 2 hours to reschedule my Cancelled Flightled flight for the morning. What gives? I need help NOW\n",
            "Result is : negative\n",
            "@AmericanAir I understand. But why is this the only flight of the day not going out? Twice?! I'm now out of extra meds and diapers for baby.\n",
            "Result is : negative\n",
            "@USAirways flight #3900 fro ORF to PHL.\n",
            "Result is : negative\n",
            "@JetBlue I hope your system wasn't hacked cause someone else's passport info was on my reservation &amp; I couldn't get my boarding pass\n",
            "Result is : negative\n",
            "@SouthwestAir Ahah😃💕🎵 That is why\n",
            "I love SW✈❗(^^)❤\n",
            "Result is : positive\n",
            "@united so unhelpful... http://t.co/vBfIeo2qJC\n",
            "Result is : negative\n",
            "@USAirways @AmericanAir  we are on us/aa flight 4443.We  arrived at dca at 2:12. Waiting on our gate (33)for apx an hr now. No update?\n",
            "Result is : negative\n",
            "@SouthwestAir @Imaginedragons @beatsmusic well timed tweet, just boarded and will be listening on my way home!\n",
            "Result is : positive\n",
            "@JetBlue appreciate the response Worst part is losing the non refundable hotel in Orlando. Your crew blamed wind! Hoping for no more delays!\n",
            "Result is : negative\n",
            "@SouthwestAir sent\n",
            "Result is : neutral\n",
            "@AmericanAir thanks for keeping us safe\n",
            "Result is : positive\n",
            "@AmericanAir \n",
            "Thank you for responding...My laptop is in my bag and I need it for work. I am worried. The file code is UTEVGW.\n",
            "Result is : negative\n",
            "@VirginAmerica wish I can afford to fly with you next Friday  going back home.. love everything  about your airline\n",
            "Result is : positive\n",
            "@AmericanAir machines are broken, lines are out the door for self service, cust. Support, and bag check in.\n",
            "Result is : negative\n",
            "@JetBlue so why do you put this at the bottom of ur baggage report? For fun? #JetBlue @airlinequality #skytrax http://t.co/tU9JX2jaZN\n",
            "Result is : negative\n",
            "@USAirways overloads small plane with extra baggage and then. Has to take them off... Poor execution #4435, 75 minute delay...\n",
            "Result is : negative\n",
            "@SouthwestAir I WANNAA GO TO THE VEGAS SHOW SO BAD ID DOO ANYTHING #DestinationDragons\n",
            "Result is : neutral\n",
            "@AmericanAir Such a suprise! New vanity kit set for frequent travellers 😀 thank you AA! http://t.co/fA7Nygn1Ux\n",
            "Result is : positive\n",
            "@SouthwestAir aren't you based in Chicago? Why are you doing a hunt in LA and not your home city????!! Please bring one home\n",
            "Result is : neutral\n",
            "@SouthwestAir landing early morning @BWI_Airport after snowfall. http://t.co/apRZsPxigE\n",
            "Result is : neutral\n",
            "@united Now submitted for the third time, please check and confirm receipt. Have taken screen shots in case it disappears again. Thanks\n",
            "Result is : negative\n",
            "@AmericanAir delayed flight six hours. Missed international connection= extra night in a hotel and still have to pay for a 15lb surfboardbag\n",
            "Result is : negative\n",
            "@JetBlue flight delayed at JFK 2 hours, then 3 hours, then 8.5 hours? Now it's back to 5 hours with no explanation or apology?\n",
            "Result is : negative\n",
            "@JetBlue yes, with about 20 minutes to spare.  FYI - your employees are amazing.  Keep up the good work!\n",
            "Result is : positive\n",
            "@JetBlue can't seem to DM you guys.. JDHADP\n",
            "Result is : negative\n",
            "@AmericanAir got another flight. Thanks you\n",
            "Result is : positive\n",
            "@USAirways forgot to call in the copilot so we're stuck on the plane in PHL. Looking fwd to being stranded in CLT. Day 2 of flight fails.\n",
            "Result is : negative\n",
            "@JetBlue I hear that the new thing in your planes are the Fly-Fi. How I can check if the flight that Im going to take have it?\n",
            "Result is : neutral\n",
            "@AmericanAir Would love to DM you, but my Twitter app says you're not following me and I can't.\n",
            "Result is : positive\n",
            "@SouthwestAir I've DM'd you. Thanks!\n",
            "Result is : positive\n",
            "@USAirways Sitting on the runway at phl for the last 30 min because the correct weights for the flight aren't in the system? #jobfail\n",
            "Result is : negative\n",
            "@SouthwestAir I've been on hold for an hour &amp; a half trying to change my flight to BNA. Not very happy with customer service right now!!!!!!\n",
            "Result is : negative\n",
            "@SouthwestAir it's the poor customer service that I have a problem with!!!!!\n",
            "Result is : negative\n",
            "@JetBlue Although it wasn't totally the answer I was looking for, I appreciate the prompt response.\n",
            "Result is : positive\n",
            "@JetBlue @hanneslohmann cool\n",
            "Result is : neutral\n",
            "@AmericanAir all of these issues are not based on weather or things that are out of your control. These  issues are based on negligence.\n",
            "Result is : negative\n",
            "@JetBlue love traveling with Jetblue. Cant wait to go to Paris oui oui!!! NYC was awesomeee!\n",
            "Result is : positive\n",
            "@jetblue thanks\n",
            "Result is : positive\n",
            "@AmericanAir Yes I am. 2495/1170. RNO departure at 1229 on 2/25 w/connection at DFW to LGA. I can do the 1120am to LAX and then to JFK\n",
            "Result is : negative\n",
            "@SouthwestAir when are the two free flights promo coming back?! Looking into the premiere card but might hold off or go with another option!\n",
            "Result is : neutral\n",
            "@AmericanAir Can you provide guidance on how I should work with them to resolve the issue\n",
            "Result is : negative\n",
            "@AmericanAir No. I was told I got put on another flight and that I would get an email. Still haven't gotten one yet.\n",
            "Result is : negative\n",
            "@USAirways the exhaustion of traveling n runnin thru the airport and tryin 2rent a car n not killin myself my family or anybody on the road\n",
            "Result is : negative\n",
            "@SouthwestAir Learn how to give folks on multiple flights the same day boarding position at least if you can't give them  boarding passes.\n",
            "Result is : negative\n",
            "@SouthwestAir way to fuck up and lose @c_istudios bags. My husband has no warm clothes and no equipment. #youdidit #notcool\n",
            "Result is : negative\n",
            "@united refreshes my browser right before checkout.error load message. Ticket price increased $358 in a matter of sec. DoUNotWantMyBusiness?\n",
            "Result is : negative\n",
            "@USAirways 100 feet from the gate at PHL, but no ground crew. You can't make this up.\n",
            "Result is : negative\n",
            "@JetBlue - He Cancelled Flightled a flight &amp; was given 2 weeks to apply travel bank credit to another flight &amp; credit was transferable\n",
            "Result is : negative\n",
            "@united 3 times I've called customer services each at least 40 mins... Each time cut off by your operators... Why can't you call me back!\n",
            "Result is : negative\n",
            "@AmericanAir Lost and Found is like talking to a hormonal teenager who refuses to talk to you. #useless #wastedeffort #FAIL\n",
            "Result is : negative\n",
            "@JetBlue I would like the actual email address so I can follow up. thank you.\n",
            "Result is : neutral\n",
            "@JetBlue needs to get its act together in #PHX\n",
            "Result is : negative\n",
            "@SouthwestAir on hold for 15+ min...no estimated answer time. Any help here?\n",
            "Result is : negative\n",
            "@AmericanAir Hi guys checking in US/AA 639 JFK PHX and renewed Admirals Club today.\n",
            "Result is : neutral\n",
            "@united I hope your corporate office is ready to deal with the rage created by your shitty service and bullshit pilots. #UnitedAirlinesSucks\n",
            "Result is : negative\n",
            "@USAirways and when will one of these agents be available to speak?\n",
            "Result is : negative\n",
            "@USAirways @caterobbie if that link worked most of us could take care of ourselves  please contact your tech people to get that working\n",
            "Result is : negative\n",
            "@united no- we are boarding- but why can't your agents, on the phone, taking care of 1K travellers, link reservations?!?!!\n",
            "Result is : negative\n",
            "@USAirways And by the way, I'm planning it while I've Ben waiting in the line at customer service in PHX...for over an hour!\n",
            "Result is : negative\n",
            "@USAirways cust svc means nothing! So disappointed. Trying since 730a to speak to a human I get bad weather not bad service.\n",
            "#socialtantrum\n",
            "Result is : negative\n",
            "@AmericanAir My sister just received a call that her trip Wednesday (flts 2348/3499) was Cancelled Flightled and resched to next day. Why?\n",
            "Result is : negative\n",
            "@united I've filed the claim but have no way of calling for updates. Is there another way to do this?\n",
            "Result is : negative\n",
            "@SouthwestAir your wifi is angering me with its slowness\n",
            "Result is : negative\n",
            "@JetBlue I would go to Las Vegas. It is gorgeous and I go there every year and I fly with you guys Vegas is gorgeous &amp; so much to do there.🌴\n",
            "Result is : positive\n",
            "@AmericanAir lost my cats, missed their flights, kept them crated 30 hrs for a  would-be 5 hr trip. You'll never touch my pets again.\n",
            "Result is : negative\n",
            "@VirginAmerica what is your policy on flying after surgery?\n",
            "Result is : neutral\n",
            "@united  Your survey is too long.  I fly a lot of segments and I'll fill it out after every trip, but not if it takes more than a minute.\n",
            "Result is : negative\n"
          ]
        }
      ]
    },
    {
      "cell_type": "code",
      "execution_count": 75,
      "id": "729cdf21",
      "metadata": {
        "execution": {
          "iopub.execute_input": "2022-06-27T15:01:54.326265Z",
          "iopub.status.busy": "2022-06-27T15:01:54.325450Z",
          "iopub.status.idle": "2022-06-27T15:01:55.616075Z",
          "shell.execute_reply": "2022-06-27T15:01:55.614807Z"
        },
        "id": "729cdf21",
        "outputId": "a23ce44b-2065-4942-a53e-b0ae8c2eb565",
        "papermill": {
          "duration": 1.307005,
          "end_time": "2022-06-27T15:01:55.618774",
          "exception": false,
          "start_time": "2022-06-27T15:01:54.311769",
          "status": "completed"
        },
        "tags": [],
        "colab": {
          "base_uri": "https://localhost:8080/",
          "height": 870
        }
      },
      "outputs": [
        {
          "output_type": "stream",
          "name": "stdout",
          "text": [
            "accuracy test score is: 0.8824443293630243\n",
            "accuracy train score is: 0.9957975936906338\n",
            "\n",
            "---------------------------------------------------------\n",
            "\n"
          ]
        },
        {
          "output_type": "display_data",
          "data": {
            "text/plain": [
              "<Figure size 576x576 with 1 Axes>"
            ],
            "image/png": "[encoded data removed]"
          },
          "metadata": {
            "needs_background": "light"
          }
        },
        {
          "output_type": "stream",
          "name": "stdout",
          "text": [
            "\n",
            "---------------------------------------------------------\n",
            "\n",
            "              precision    recall  f1-score   support\n",
            "\n",
            "           0       0.93      0.69      0.80       448\n",
            "           1       0.91      0.82      0.86       347\n",
            "           2       0.86      0.98      0.92      1136\n",
            "\n",
            "    accuracy                           0.88      1931\n",
            "   macro avg       0.90      0.83      0.86      1931\n",
            "weighted avg       0.89      0.88      0.88      1931\n",
            "\n"
          ]
        }
      ],
      "source": [
        "prediction_train = randomforest_model.predict(x_train)\n",
        "prediction = randomforest_model.predict(x_test)\n",
        "\n",
        "print(f'accuracy test score is: {accuracy_score(y_test,prediction)}')\n",
        "print(f'accuracy train score is: {accuracy_score(y_train,prediction_train)}')\n",
        "\n",
        "print()\n",
        "print('---------------------------------------------------------')\n",
        "print()\n",
        "\n",
        "confusion_matrix=metrics.confusion_matrix(y_test,prediction)\n",
        "fig= plot_confusion_matrix(conf_mat=confusion_matrix,cmap=plt.cm.Greys,figsize=(8,8))\n",
        "plt.xlabel('Prediction',fontsize=16)\n",
        "plt.ylabel('Actual',fontsize=16)\n",
        "plt.title('Confusion Matrix',fontsize=16)\n",
        "plt.show()\n",
        "\n",
        "print()\n",
        "print('---------------------------------------------------------')\n",
        "print()\n",
        "\n",
        "'''\n",
        "   precision = TP/TP+FP\n",
        "   recall = TP/TP+FN\n",
        "   f1 = 2*precision*recall/precision+recall\n",
        "   accuracy = TP+TF/Total Samples\n",
        "'''\n",
        "\n",
        "accuracy_report = classification_report(y_test,prediction)\n",
        "print(accuracy_report)"
      ]
    }
  ],
  "metadata": {
    "kernelspec": {
      "display_name": "Python 3",
      "language": "python",
      "name": "python3"
    },
    "language_info": {
      "codemirror_mode": {
        "name": "ipython",
        "version": 3
      },
      "file_extension": ".py",
      "mimetype": "text/x-python",
      "name": "python",
      "nbconvert_exporter": "python",
      "pygments_lexer": "ipython3",
      "version": "3.7.12"
    },
    "papermill": {
      "default_parameters": {},
      "duration": 313.861203,
      "end_time": "2022-06-27T15:01:56.455281",
      "environment_variables": {},
      "exception": null,
      "input_path": "__notebook__.ipynb",
      "output_path": "__notebook__.ipynb",
      "parameters": {},
      "start_time": "2022-06-27T14:56:42.594078",
      "version": "2.3.4"
    },
    "colab": {
      "name": "twitter-sentiment-analysis.ipynb",
      "provenance": [],
      "collapsed_sections": []
    },
    "accelerator": "GPU",
    "gpuClass": "standard"
  },
  "nbformat": 4,
  "nbformat_minor": 5
}